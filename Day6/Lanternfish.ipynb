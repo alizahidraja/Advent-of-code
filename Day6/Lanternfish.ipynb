{
 "cells": [
  {
   "cell_type": "code",
   "execution_count": 1,
   "id": "5be6404c",
   "metadata": {},
   "outputs": [],
   "source": [
    "arr = []\n",
    "f = open(\"input.txt\", \"r\")\n",
    "for l in f.readlines():\n",
    "    arr.append(l.strip())\n",
    "    # print(l.strip())\n"
   ]
  },
  {
   "cell_type": "code",
   "execution_count": 2,
   "id": "26b61644",
   "metadata": {},
   "outputs": [
    {
     "data": {
      "text/plain": [
       "['1,1,3,5,3,1,1,4,1,1,5,2,4,3,1,1,3,1,1,5,5,1,3,2,5,4,1,1,5,1,4,2,1,4,2,1,4,4,1,5,1,4,4,1,1,5,1,5,1,5,1,1,1,5,1,2,5,1,1,3,2,2,2,1,4,1,1,2,4,1,3,1,2,1,3,5,2,3,5,1,1,4,3,3,5,1,5,3,1,2,3,4,1,1,5,4,1,3,4,4,1,2,4,4,1,1,3,5,3,1,2,2,5,1,4,1,3,3,3,3,1,1,2,1,5,3,4,5,1,5,2,5,3,2,1,4,2,1,1,1,4,1,2,1,2,2,4,5,5,5,4,1,4,1,4,2,3,2,3,1,1,2,3,1,1,1,5,2,2,5,3,1,4,1,2,1,1,5,3,1,4,5,1,4,2,1,1,5,1,5,4,1,5,5,2,3,1,3,5,1,1,1,1,3,1,1,4,1,5,2,1,1,3,5,1,1,4,2,1,2,5,2,5,1,1,1,2,3,5,5,1,4,3,2,2,3,2,1,1,4,1,3,5,2,3,1,1,5,1,3,5,1,1,5,5,3,1,3,3,1,2,3,1,5,1,3,2,1,3,1,1,2,3,5,3,5,5,4,3,1,5,1,1,2,3,2,2,1,1,2,1,4,1,2,3,3,3,1,3,5']"
      ]
     },
     "execution_count": 2,
     "metadata": {},
     "output_type": "execute_result"
    }
   ],
   "source": [
    "arr"
   ]
  },
  {
   "cell_type": "code",
   "execution_count": 3,
   "id": "a79935a5",
   "metadata": {},
   "outputs": [
    {
     "name": "stdout",
     "output_type": "stream",
     "text": [
      "Part 1 361169\n"
     ]
    }
   ],
   "source": [
    "x = arr[0].split(\",\")\n",
    "fish=[]\n",
    "for i in x:\n",
    "    fish.append(int(i))\n",
    "    \n",
    "for j in range(80):  \n",
    "    for i in range(len(fish)):\n",
    "        if fish[i] == 0:\n",
    "            fish[i] = 6\n",
    "            fish.append(8)\n",
    "        else:\n",
    "            fish[i]-=1\n",
    "        \n",
    "print(\"Part 1\", len(fish))"
   ]
  },
  {
   "cell_type": "code",
   "execution_count": 4,
   "id": "06753a33",
   "metadata": {},
   "outputs": [
    {
     "name": "stdout",
     "output_type": "stream",
     "text": [
      "Part 2 1634946868992\n"
     ]
    }
   ],
   "source": [
    "x = arr[0].split(\",\")\n",
    "fish=[]\n",
    "for i in x:\n",
    "    fish.append(int(i))\n",
    "    \n",
    "days = [0]*9\n",
    "for f in fish:\n",
    "    days[f] += 1\n",
    "\n",
    "for d in range(256):\n",
    "    next_day = [0]*9\n",
    "    next_day[6] = next_day[8] = days[0]\n",
    "    for d in range(8):\n",
    "        next_day[d] += days[d+1]\n",
    "    days = next_day\n",
    "\n",
    "print(\"Part 2\", sum(days))"
   ]
  },
  {
   "cell_type": "code",
   "execution_count": null,
   "id": "0ace30f1",
   "metadata": {},
   "outputs": [],
   "source": []
  },
  {
   "cell_type": "code",
   "execution_count": null,
   "id": "488f6ba3",
   "metadata": {},
   "outputs": [],
   "source": []
  },
  {
   "cell_type": "code",
   "execution_count": null,
   "id": "075f6eae",
   "metadata": {},
   "outputs": [],
   "source": []
  },
  {
   "cell_type": "code",
   "execution_count": null,
   "id": "ef8f3925",
   "metadata": {},
   "outputs": [],
   "source": []
  }
 ],
 "metadata": {
  "kernelspec": {
   "display_name": "Python 3 (ipykernel)",
   "language": "python",
   "name": "python3"
  },
  "language_info": {
   "codemirror_mode": {
    "name": "ipython",
    "version": 3
   },
   "file_extension": ".py",
   "mimetype": "text/x-python",
   "name": "python",
   "nbconvert_exporter": "python",
   "pygments_lexer": "ipython3",
   "version": "3.7.9"
  }
 },
 "nbformat": 4,
 "nbformat_minor": 5
}
