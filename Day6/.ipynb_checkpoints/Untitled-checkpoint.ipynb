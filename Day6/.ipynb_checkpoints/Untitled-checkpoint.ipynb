{
 "cells": [
  {
   "cell_type": "code",
   "execution_count": 30,
   "id": "5be6404c",
   "metadata": {},
   "outputs": [],
   "source": [
    "arr = []\n",
    "f = open(\"input.txt\", \"r\")\n",
    "for l in f.readlines():\n",
    "    arr.append(l.strip())\n",
    "    # print(l.strip())\n"
   ]
  },
  {
   "cell_type": "code",
   "execution_count": 31,
   "id": "26b61644",
   "metadata": {},
   "outputs": [
    {
     "data": {
      "text/plain": [
       "['3,4,3,1,2']"
      ]
     },
     "execution_count": 31,
     "metadata": {},
     "output_type": "execute_result"
    }
   ],
   "source": [
    "arr"
   ]
  },
  {
   "cell_type": "code",
   "execution_count": 32,
   "id": "a79935a5",
   "metadata": {},
   "outputs": [],
   "source": [
    "arr_ = []\n",
    "for i in arr:\n",
    "    x = i.split(\",\")\n",
    "arr=[]\n",
    "for i in x:\n",
    "    arr.append(int(i))"
   ]
  },
  {
   "cell_type": "code",
   "execution_count": 33,
   "id": "52ce99eb",
   "metadata": {},
   "outputs": [
    {
     "data": {
      "text/plain": [
       "[3, 4, 3, 1, 2]"
      ]
     },
     "execution_count": 33,
     "metadata": {},
     "output_type": "execute_result"
    }
   ],
   "source": [
    "arr"
   ]
  },
  {
   "cell_type": "code",
   "execution_count": 34,
   "id": "bbdceb62",
   "metadata": {},
   "outputs": [
    {
     "name": "stdout",
     "output_type": "stream",
     "text": [
      "[2, 3, 2, 0, 1] 8\n",
      "[1, 2, 1, 5, 0, 8] 17\n",
      "[0, 1, 0, 4, 5, 7, 8] 25\n",
      "[5, 0, 5, 3, 4, 6, 7, 8, 8] 46\n"
     ]
    }
   ],
   "source": [
    "for j in range(4):  \n",
    "    for i in range(len(arr)):\n",
    "        if arr[i] == 0:\n",
    "            arr[i] = 6\n",
    "            arr.append(8)\n",
    "        else:\n",
    "            arr[i]-=1\n",
    "        \n",
    "    print(arr, sum(arr))"
   ]
  },
  {
   "cell_type": "code",
   "execution_count": null,
   "id": "e02320b1",
   "metadata": {},
   "outputs": [],
   "source": []
  },
  {
   "cell_type": "code",
   "execution_count": null,
   "id": "45d69eda",
   "metadata": {},
   "outputs": [],
   "source": []
  }
 ],
 "metadata": {
  "kernelspec": {
   "display_name": "Python 3 (ipykernel)",
   "language": "python",
   "name": "python3"
  },
  "language_info": {
   "codemirror_mode": {
    "name": "ipython",
    "version": 3
   },
   "file_extension": ".py",
   "mimetype": "text/x-python",
   "name": "python",
   "nbconvert_exporter": "python",
   "pygments_lexer": "ipython3",
   "version": "3.7.9"
  }
 },
 "nbformat": 4,
 "nbformat_minor": 5
}
