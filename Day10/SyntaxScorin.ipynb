{
 "cells": [
  {
   "cell_type": "code",
   "execution_count": 25,
   "id": "5be6404c",
   "metadata": {},
   "outputs": [],
   "source": [
    "arr = []\n",
    "f = open(\"input.txt\", \"r\")\n",
    "for l in f.readlines():\n",
    "    arr.append(l.strip())\n",
    "    # print(l.strip())\n"
   ]
  },
  {
   "cell_type": "code",
   "execution_count": 27,
   "id": "8c242110",
   "metadata": {},
   "outputs": [],
   "source": [
    "costs = {')':3, ']':57, '}':1197, '>':25137}\n",
    "matches = {'[': ']', '{': '}', '<': '>', '(': ')', ']': '[', '}': '{', '>': '<', ')': '('}\n",
    "starters = ['[', '{', '<', '(']"
   ]
  },
  {
   "cell_type": "code",
   "execution_count": 29,
   "id": "4b35970f",
   "metadata": {},
   "outputs": [
    {
     "name": "stdout",
     "output_type": "stream",
     "text": [
      "part 1 462693\n"
     ]
    }
   ],
   "source": [
    "cost = 0\n",
    "for line in arr:\n",
    "\tstack = []\n",
    "\tfor ch in line:\n",
    "\t\tif ch in starters:\n",
    "\t\t\tstack = [ch] + stack\n",
    "\t\telse:\n",
    "\t\t\tif not stack:\n",
    "\t\t\t\tbreak\n",
    "\t\t\texpected = matches[stack[0]]\n",
    "\t\t\tstack = stack[1:]\n",
    "\t\t\tif expected == ch:\n",
    "\t\t\t\tcontinue\n",
    "\t\t\tcost += costs[ch]\n",
    "\t\t\tbreak\n",
    "print(\"part 1\", cost)"
   ]
  },
  {
   "cell_type": "code",
   "execution_count": 33,
   "id": "b8472c79",
   "metadata": {},
   "outputs": [],
   "source": [
    "costs = {']': 2, ')': 1, '}': 3, '>': 4}\n",
    "matches = {'[': ']', '{': '}', '<': '>', '(': ')', ']': '[', '}': '{', '>': '<', ')': '('}\n",
    "starters = ['[', '{', '<', '(']"
   ]
  },
  {
   "cell_type": "code",
   "execution_count": 35,
   "id": "17200a4b",
   "metadata": {},
   "outputs": [
    {
     "name": "stdout",
     "output_type": "stream",
     "text": [
      "3094671161\n"
     ]
    }
   ],
   "source": [
    "cost = []\n",
    "for line in arr:\n",
    "\tstack = []\n",
    "\tfailures = False\n",
    "\tfor ch in line:\n",
    "\t\tif ch in starters:\n",
    "\t\t\tstack = [ch] + stack\n",
    "\t\telse:\n",
    "\t\t\tif not stack:\n",
    "\t\t\t\tbreak\n",
    "\t\t\texpected = matches[stack[0]]\n",
    "\t\t\tstack = stack[1:]\n",
    "\t\t\tif expected == ch:\n",
    "\t\t\t\tcontinue\n",
    "\t\t\tfailures = True\n",
    "\t\t\tbreak\n",
    "\tif not failures:\n",
    "\t\tc = 0\n",
    "\t\tfor ch in stack:\n",
    "\t\t\tc = c*5 + costs[matches[ch]]\n",
    "\t\tcost += [c]\n",
    "\n",
    "cost = sorted(cost)\n",
    "\n",
    "print(\"part 2\", cost[int(len(cost)/2)])"
   ]
  },
  {
   "cell_type": "code",
   "execution_count": null,
   "id": "bdf211f8",
   "metadata": {},
   "outputs": [],
   "source": []
  }
 ],
 "metadata": {
  "kernelspec": {
   "display_name": "Python 3 (ipykernel)",
   "language": "python",
   "name": "python3"
  },
  "language_info": {
   "codemirror_mode": {
    "name": "ipython",
    "version": 3
   },
   "file_extension": ".py",
   "mimetype": "text/x-python",
   "name": "python",
   "nbconvert_exporter": "python",
   "pygments_lexer": "ipython3",
   "version": "3.7.9"
  }
 },
 "nbformat": 4,
 "nbformat_minor": 5
}
