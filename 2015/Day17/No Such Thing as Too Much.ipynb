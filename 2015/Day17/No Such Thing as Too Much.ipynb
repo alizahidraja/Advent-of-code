{
 "cells": [
  {
   "cell_type": "code",
   "execution_count": 1,
   "id": "5be6404c",
   "metadata": {},
   "outputs": [],
   "source": [
    "# for string\n",
    "arr = []\n",
    "f = open(\"input.txt\", \"r\")\n",
    "for l in f.readlines():\n",
    "    arr.append(l.strip())\n",
    "    # print(l.strip())\n"
   ]
  },
  {
   "cell_type": "code",
   "execution_count": 2,
   "id": "9265a2cf",
   "metadata": {},
   "outputs": [],
   "source": [
    "# For integer 2d\n",
    "#arr = []\n",
    "#for line in open(\"input.txt\", \"r\"):\n",
    "#   arr.append([int(x) for x in line.strip()])"
   ]
  },
  {
   "cell_type": "code",
   "execution_count": 3,
   "id": "e2ff1dab",
   "metadata": {},
   "outputs": [],
   "source": [
    "arr = [int(i) for i in arr]"
   ]
  },
  {
   "cell_type": "code",
   "execution_count": 4,
   "id": "0295c2e7",
   "metadata": {},
   "outputs": [
    {
     "data": {
      "text/plain": [
       "[33, 14, 18, 20, 45, 35, 16, 35, 1, 13, 18, 13, 50, 44, 48, 6, 24, 41, 30, 42]"
      ]
     },
     "execution_count": 4,
     "metadata": {},
     "output_type": "execute_result"
    }
   ],
   "source": [
    "arr"
   ]
  },
  {
   "cell_type": "code",
   "execution_count": 5,
   "id": "2492e30c",
   "metadata": {},
   "outputs": [
    {
     "name": "stdout",
     "output_type": "stream",
     "text": [
      "Part 1 1304\n"
     ]
    }
   ],
   "source": [
    "from itertools import combinations\n",
    "\n",
    "q1 = 0\n",
    "for i in range(1, len(arr)):\n",
    "    for perm in combinations(arr, i):\n",
    "        if sum(perm) == 150:\n",
    "            q1 += 1\n",
    "print(\"Part 1\", q1)"
   ]
  },
  {
   "cell_type": "code",
   "execution_count": 6,
   "id": "ebe9f9ea",
   "metadata": {},
   "outputs": [
    {
     "name": "stdout",
     "output_type": "stream",
     "text": [
      "Part 2 18\n"
     ]
    }
   ],
   "source": [
    "total = 0\n",
    "for i in range(1, len(arr)):\n",
    "    total += len([x for x in combinations(arr, i) if sum(x) == 150])\n",
    "    if total:\n",
    "        break\n",
    "print(\"Part 2\", total)"
   ]
  },
  {
   "cell_type": "code",
   "execution_count": null,
   "id": "fba2c8be",
   "metadata": {},
   "outputs": [],
   "source": []
  }
 ],
 "metadata": {
  "kernelspec": {
   "display_name": "Python 3 (ipykernel)",
   "language": "python",
   "name": "python3"
  },
  "language_info": {
   "codemirror_mode": {
    "name": "ipython",
    "version": 3
   },
   "file_extension": ".py",
   "mimetype": "text/x-python",
   "name": "python",
   "nbconvert_exporter": "python",
   "pygments_lexer": "ipython3",
   "version": "3.7.9"
  }
 },
 "nbformat": 4,
 "nbformat_minor": 5
}
