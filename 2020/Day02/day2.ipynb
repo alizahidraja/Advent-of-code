{
 "cells": [
  {
   "cell_type": "code",
   "execution_count": 6,
   "id": "5be6404c",
   "metadata": {},
   "outputs": [],
   "source": [
    "# for string\n",
    "arr = []\n",
    "f = open(\"input.txt\", \"r\")\n",
    "for l in f.readlines():\n",
    "    arr.append(l.strip())\n",
    "    # print(l.strip())\n"
   ]
  },
  {
   "cell_type": "code",
   "execution_count": 8,
   "id": "f275c23c",
   "metadata": {},
   "outputs": [
    {
     "name": "stdout",
     "output_type": "stream",
     "text": [
      "383\n",
      "272\n"
     ]
    }
   ],
   "source": [
    "r = open('input.txt').read().strip('\\n')\n",
    "import re\n",
    "input = [[int(y) if y.isdigit() else y for y in re.split('-| |: ',line)] for line in r.splitlines()]\n",
    "\n",
    "#Part 1\n",
    "valid = 0\n",
    "for entry in input:\n",
    "    if entry[0] <= entry[3].count(entry[2]) <= entry[1]:\n",
    "        valid = valid + 1\n",
    "\n",
    "print(valid)\n",
    "\n",
    "#Part 2\n",
    "valid = 0\n",
    "for entry in input:\n",
    "    if (entry[3][entry[0]-1] == entry[2]) != (entry[3][entry[1]-1] == entry[2]):\n",
    "        valid = valid + 1\n",
    "\n",
    "print(valid)"
   ]
  },
  {
   "cell_type": "code",
   "execution_count": null,
   "id": "d85bb955",
   "metadata": {},
   "outputs": [],
   "source": []
  }
 ],
 "metadata": {
  "kernelspec": {
   "display_name": "Python 3 (ipykernel)",
   "language": "python",
   "name": "python3"
  },
  "language_info": {
   "codemirror_mode": {
    "name": "ipython",
    "version": 3
   },
   "file_extension": ".py",
   "mimetype": "text/x-python",
   "name": "python",
   "nbconvert_exporter": "python",
   "pygments_lexer": "ipython3",
   "version": "3.7.9"
  }
 },
 "nbformat": 4,
 "nbformat_minor": 5
}
