{
 "cells": [
  {
   "cell_type": "code",
   "execution_count": 1,
   "id": "5be6404c",
   "metadata": {},
   "outputs": [],
   "source": [
    "# for string\n",
    "arr = []\n",
    "f = open(\"input.txt\", \"r\")\n",
    "for l in f.readlines():\n",
    "    arr.append(l.strip())\n",
    "    # print(l.strip())\n"
   ]
  },
  {
   "cell_type": "code",
   "execution_count": 3,
   "id": "bc54e9cf",
   "metadata": {},
   "outputs": [],
   "source": [
    "num = []\n",
    "for i in arr:\n",
    "    num.append(int(i))"
   ]
  },
  {
   "cell_type": "code",
   "execution_count": 4,
   "id": "51aebeba",
   "metadata": {},
   "outputs": [
    {
     "data": {
      "text/plain": [
       "[(895, 1125)]"
      ]
     },
     "execution_count": 4,
     "metadata": {},
     "output_type": "execute_result"
    }
   ],
   "source": [
    "from itertools import combinations\n",
    "combs = list(combinations(num, 2))\n",
    "\n",
    "sol = [c for c in combs if sum(c) == 2020]\n",
    "sol"
   ]
  },
  {
   "cell_type": "code",
   "execution_count": 8,
   "id": "18ef736a",
   "metadata": {},
   "outputs": [
    {
     "name": "stdout",
     "output_type": "stream",
     "text": [
      "Part 1 1006875\n"
     ]
    }
   ],
   "source": [
    "print(\"Part 1\", sol[0][0]*sol[0][1])"
   ]
  },
  {
   "cell_type": "code",
   "execution_count": 9,
   "id": "db479280",
   "metadata": {},
   "outputs": [
    {
     "name": "stdout",
     "output_type": "stream",
     "text": [
      "Part 2 165026160\n"
     ]
    }
   ],
   "source": [
    "combs = list(combinations(num, 3))\n",
    "\n",
    "sol = [c for c in combs if sum(c) == 2020]\n",
    "\n",
    "print(\"Part 2\", sol[0][0]*sol[0][1]*sol[0][2])"
   ]
  },
  {
   "cell_type": "code",
   "execution_count": null,
   "id": "b1359993",
   "metadata": {},
   "outputs": [],
   "source": []
  }
 ],
 "metadata": {
  "kernelspec": {
   "display_name": "Python 3 (ipykernel)",
   "language": "python",
   "name": "python3"
  },
  "language_info": {
   "codemirror_mode": {
    "name": "ipython",
    "version": 3
   },
   "file_extension": ".py",
   "mimetype": "text/x-python",
   "name": "python",
   "nbconvert_exporter": "python",
   "pygments_lexer": "ipython3",
   "version": "3.7.9"
  }
 },
 "nbformat": 4,
 "nbformat_minor": 5
}
