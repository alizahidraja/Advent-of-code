{
 "cells": [
  {
   "cell_type": "code",
   "execution_count": 1,
   "id": "5be6404c",
   "metadata": {},
   "outputs": [],
   "source": [
    "# for string\n",
    "arr = []\n",
    "f = open(\"input.txt\", \"r\")\n",
    "for l in f.readlines():\n",
    "    arr.append(l.strip())\n",
    "    # print(l.strip())\n"
   ]
  },
  {
   "cell_type": "code",
   "execution_count": 2,
   "id": "9265a2cf",
   "metadata": {},
   "outputs": [],
   "source": [
    "# For integer\n",
    "arr = []\n",
    "for line in open(\"input.txt\", \"r\"):\n",
    "   arr.append([int(x) for x in line.strip()])"
   ]
  },
  {
   "cell_type": "code",
   "execution_count": 3,
   "id": "9a1ae7be",
   "metadata": {},
   "outputs": [],
   "source": [
    "def bfs(arr):\n",
    "    q = [(0, 0, 0)]\n",
    "    costs = {}\n",
    "    while True:\n",
    "        cost, x, y = q[0]\n",
    "        if x == len(arr) - 1 and y == len(arr[0]) - 1:\n",
    "            return cost\n",
    "        q = q[1:]\n",
    "        for xx, yy in [(x + 1, y), (x - 1, y), (x, y - 1), (x, y + 1)]:\n",
    "            if xx in range(len(arr)) and yy in range(len(arr[0])):\n",
    "                nc = cost + arr[xx][yy]\n",
    "                if (xx, yy) in costs and costs[(xx, yy)] <= nc:\n",
    "                    continue\n",
    "                costs[(xx, yy)] = nc\n",
    "                q.append((nc, xx, yy))\n",
    "        q = sorted(q)"
   ]
  },
  {
   "cell_type": "code",
   "execution_count": 4,
   "id": "36f80a02",
   "metadata": {},
   "outputs": [
    {
     "name": "stdout",
     "output_type": "stream",
     "text": [
      "Part 1 423\n"
     ]
    }
   ],
   "source": [
    "print(\"Part 1\", bfs(arr))"
   ]
  },
  {
   "cell_type": "code",
   "execution_count": 5,
   "id": "8446804c",
   "metadata": {},
   "outputs": [
    {
     "name": "stdout",
     "output_type": "stream",
     "text": [
      "Part 2 2778\n"
     ]
    }
   ],
   "source": [
    "expanded_arr = [[0 for x in range(5 * len(arr[0]))] for y in range(5 * len(arr))]\n",
    "\n",
    "for x in range(len(expanded_arr)):\n",
    "    for y in range(len(expanded_arr[0])):\n",
    "        dist = x // len(arr) + y // len(arr[0])\n",
    "        newval = arr[x % len(arr)][y % len(arr[0])]\n",
    "        for i in range(dist):\n",
    "            newval += 1\n",
    "            if newval > 9:\n",
    "                newval = 1\n",
    "        expanded_arr[x][y] = newval\n",
    "\n",
    "print(\"Part 2\", bfs(expanded_arr))"
   ]
  },
  {
   "cell_type": "code",
   "execution_count": null,
   "id": "3ef368a0",
   "metadata": {},
   "outputs": [],
   "source": []
  }
 ],
 "metadata": {
  "kernelspec": {
   "display_name": "Python 3 (ipykernel)",
   "language": "python",
   "name": "python3"
  },
  "language_info": {
   "codemirror_mode": {
    "name": "ipython",
    "version": 3
   },
   "file_extension": ".py",
   "mimetype": "text/x-python",
   "name": "python",
   "nbconvert_exporter": "python",
   "pygments_lexer": "ipython3",
   "version": "3.7.9"
  }
 },
 "nbformat": 4,
 "nbformat_minor": 5
}
