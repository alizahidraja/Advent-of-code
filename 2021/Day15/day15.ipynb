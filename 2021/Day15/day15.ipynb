{
 "cells": [
  {
   "cell_type": "code",
   "execution_count": 1,
   "id": "5be6404c",
   "metadata": {},
   "outputs": [],
   "source": [
    "# for string\n",
    "arr = []\n",
    "f = open(\"input.txt\", \"r\")\n",
    "for l in f.readlines():\n",
    "    arr.append(l.strip())\n",
    "    # print(l.strip())\n"
   ]
  },
  {
   "cell_type": "code",
   "execution_count": 2,
   "id": "1c8caa97",
   "metadata": {},
   "outputs": [],
   "source": [
    "# For integer\n",
    "# arr = []\n",
    "# for line in open(\"input.txt\", \"r\"):\n",
    "#\n",
    "#    arr.append([int(x) for x in line.strip()])"
   ]
  },
  {
   "cell_type": "code",
   "execution_count": 4,
   "id": "3a0bc77a",
   "metadata": {},
   "outputs": [
    {
     "data": {
      "text/plain": [
       "[]"
      ]
     },
     "execution_count": 4,
     "metadata": {},
     "output_type": "execute_result"
    }
   ],
   "source": [
    "arr"
   ]
  },
  {
   "cell_type": "code",
   "execution_count": null,
   "id": "83ca4df2",
   "metadata": {},
   "outputs": [],
   "source": []
  }
 ],
 "metadata": {
  "kernelspec": {
   "display_name": "Python 3 (ipykernel)",
   "language": "python",
   "name": "python3"
  },
  "language_info": {
   "codemirror_mode": {
    "name": "ipython",
    "version": 3
   },
   "file_extension": ".py",
   "mimetype": "text/x-python",
   "name": "python",
   "nbconvert_exporter": "python",
   "pygments_lexer": "ipython3",
   "version": "3.7.9"
  }
 },
 "nbformat": 4,
 "nbformat_minor": 5
}
