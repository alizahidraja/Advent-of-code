{
 "cells": [
  {
   "cell_type": "code",
   "execution_count": 18,
   "id": "5be6404c",
   "metadata": {},
   "outputs": [],
   "source": [
    "# for string\n",
    "arr = []\n",
    "f = open(\"input.txt\", \"r\")\n",
    "for l in f.readlines():\n",
    "    arr.append(l.strip())\n",
    "    # print(l.strip())\n"
   ]
  },
  {
   "cell_type": "code",
   "execution_count": 19,
   "id": "1c8caa97",
   "metadata": {},
   "outputs": [],
   "source": [
    "# For integer\n",
    "arr = []\n",
    "for line in open(\"input.txt\", \"r\"):\n",
    "    arr.append([int(x) for x in line.strip()])"
   ]
  },
  {
   "cell_type": "code",
   "execution_count": 20,
   "id": "92ba81ae",
   "metadata": {},
   "outputs": [
    {
     "name": "stdout",
     "output_type": "stream",
     "text": [
      "Part 1 1729\n"
     ]
    }
   ],
   "source": [
    "ans = 0\n",
    "# recurse\n",
    "def flash(i, j):\n",
    "    global ans\n",
    "    ans += 1\n",
    "    arr[i][j] = -1\n",
    "    for dr in [0, 1, -1]:\n",
    "        for dc in [0, 1, -1]:\n",
    "            new_i = i + dr\n",
    "            new_j = j + dc\n",
    "            if 0 <= new_i < len(arr) and 0 <= new_j < len(arr[0]) and arr[new_i][new_j] != -1:\n",
    "                arr[new_i][new_j] += 1\n",
    "                if arr[new_i][new_j] > 9:\n",
    "                    flash(new_i, new_j)\n",
    "\n",
    "\n",
    "for a in range(100):\n",
    "    for i in range(len(arr)):\n",
    "        for j in range(len(arr[0])):\n",
    "            arr[i][j] += 1\n",
    "\n",
    "            \n",
    "    for i in range(len(arr)):\n",
    "        for j in range(len(arr[0])):\n",
    "            if arr[i][j] > 9:\n",
    "                flash(i, j)\n",
    "    \n",
    "    for i in range(len(arr)):\n",
    "        for j in range(len(arr[0])):\n",
    "            if arr[i][j] == -1:\n",
    "                arr[i][j] = 0\n",
    "\n",
    "print(\"Part 1\", ans)\n"
   ]
  },
  {
   "cell_type": "code",
   "execution_count": 21,
   "id": "741c3420",
   "metadata": {},
   "outputs": [
    {
     "name": "stdout",
     "output_type": "stream",
     "text": [
      "Part 2 237\n"
     ]
    }
   ],
   "source": [
    "# For integer\n",
    "arr = []\n",
    "for line in open(\"input.txt\", \"r\"):\n",
    "    arr.append([int(x) for x in line.strip()])\n",
    "\n",
    "step = 0\n",
    "done = False\n",
    "while not done:\n",
    "    step += 1\n",
    "    for i in range(len(arr)):\n",
    "        for j in range(len(arr[0])):\n",
    "            arr[i][j] += 1\n",
    "\n",
    "            \n",
    "    for i in range(len(arr)):\n",
    "        for j in range(len(arr[0])):\n",
    "            if arr[i][j] > 9:\n",
    "                flash(i, j)\n",
    "    done = True\n",
    "    for i in range(len(arr)):\n",
    "        for j in range(len(arr[0])):\n",
    "            if arr[i][j] == -1:\n",
    "                arr[i][j] = 0\n",
    "            else:\n",
    "                done = False\n",
    "\n",
    "\n",
    "\n",
    "print(\"Part 2\", step)\n"
   ]
  },
  {
   "cell_type": "markdown",
   "id": "1c137f8a",
   "metadata": {},
   "source": [
    "# Visualizing 2nd Part"
   ]
  },
  {
   "cell_type": "code",
   "execution_count": 17,
   "id": "165bcab3",
   "metadata": {},
   "outputs": [],
   "source": [
    "import numpy as np \n",
    "import matplotlib.pyplot as plt"
   ]
  },
  {
   "cell_type": "code",
   "execution_count": 16,
   "id": "12fefdb6",
   "metadata": {},
   "outputs": [
    {
     "name": "stderr",
     "output_type": "stream",
     "text": [
      "No handles with labels found to put in legend.\n"
     ]
    },
    {
     "data": {
      "image/png": "[encoded data removed]",
      "text/plain": [
       "<Figure size 432x288 with 1 Axes>"
      ]
     },
     "metadata": {
      "needs_background": "light"
     },
     "output_type": "display_data"
    }
   ],
   "source": [
    "# For integer\n",
    "arr = []\n",
    "for line in open(\"input.txt\", \"r\"):\n",
    "    arr.append([int(x) for x in line.strip()])\n",
    "\n",
    "\n",
    "step = 0\n",
    "done = False\n",
    "while not done:\n",
    "    step += 1\n",
    "    for i in range(len(arr)):\n",
    "        for j in range(len(arr[0])):\n",
    "            arr[i][j] += 1\n",
    "\n",
    "            \n",
    "    for i in range(len(arr)):\n",
    "        for j in range(len(arr[0])):\n",
    "            if arr[i][j] > 9:\n",
    "                flash(i, j)\n",
    "                \n",
    "    done = True\n",
    "    for i in range(len(arr)):\n",
    "        for j in range(len(arr[0])):\n",
    "            if arr[i][j] == -1:\n",
    "                arr[i][j] = 0\n",
    "            else:\n",
    "                done = False\n",
    "    np_arr=np.array(arr)\n",
    "    #plt.imshow(np_arr, interpolation='none')\n",
    "    plt.savefig(str(step) + \"_file.png\")\n"
   ]
  },
  {
   "cell_type": "code",
   "execution_count": null,
   "id": "3c07dd5d",
   "metadata": {},
   "outputs": [],
   "source": [
    "import cv2\n",
    "import os\n",
    "\n",
    "image_folder = './'\n",
    "video_name = 'video.mp4'\n",
    "\n",
    "images = []\n",
    "for i in range(1, 238):\n",
    "    images.append(str(i)+\"_file.png\")\n",
    "frame = cv2.imread(os.path.join(image_folder, images[0]))\n",
    "height, width, layers = frame.shape\n",
    "\n",
    "video = cv2.VideoWriter(video_name, 0, 1, (width,height))\n",
    "\n",
    "for image in images:\n",
    "    video.write(cv2.imread(os.path.join(image_folder, image)))\n",
    "\n",
    "cv2.destroyAllWindows()\n",
    "video.release()"
   ]
  },
  {
   "cell_type": "code",
   "execution_count": null,
   "id": "3d43d64f",
   "metadata": {},
   "outputs": [],
   "source": []
  }
 ],
 "metadata": {
  "kernelspec": {
   "display_name": "Python 3 (ipykernel)",
   "language": "python",
   "name": "python3"
  },
  "language_info": {
   "codemirror_mode": {
    "name": "ipython",
    "version": 3
   },
   "file_extension": ".py",
   "mimetype": "text/x-python",
   "name": "python",
   "nbconvert_exporter": "python",
   "pygments_lexer": "ipython3",
   "version": "3.7.9"
  }
 },
 "nbformat": 4,
 "nbformat_minor": 5
}
