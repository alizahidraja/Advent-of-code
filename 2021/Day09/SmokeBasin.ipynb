{
 "cells": [
  {
   "cell_type": "code",
   "execution_count": 1,
   "id": "5be6404c",
   "metadata": {},
   "outputs": [],
   "source": [
    "arr = []\n",
    "f = open(\"input.txt\", \"r\")\n",
    "for l in f.readlines():\n",
    "    arr.append(l.strip())\n",
    "    # print(l.strip())\n"
   ]
  },
  {
   "cell_type": "code",
   "execution_count": 2,
   "id": "95097020",
   "metadata": {},
   "outputs": [
    {
     "name": "stdout",
     "output_type": "stream",
     "text": [
      "Part 1: 526\n"
     ]
    }
   ],
   "source": [
    "import math\n",
    "\n",
    "grid = {}\n",
    "for x in range(len(arr)):\n",
    "    for y in range(len(arr[0])):\n",
    "        grid[x, y] = int(arr[x][y])\n",
    "\n",
    "num = 0\n",
    "for x in range(len(arr)):\n",
    "    for y in range(len(arr[0])):\n",
    "        if (\n",
    "            grid[x, y] < grid.get((x + 1, y), math.inf) and\n",
    "            grid[x, y] < grid.get((x - 1, y), math.inf) and\n",
    "            grid[x, y] < grid.get((x, y + 1), math.inf) and\n",
    "            grid[x, y] < grid.get((x, y - 1), math.inf)\n",
    "        ):\n",
    "        \n",
    "            num += grid[x, y] + 1\n",
    "\n",
    "print(\"Part 1:\", num)\n"
   ]
  },
  {
   "cell_type": "code",
   "execution_count": 3,
   "id": "62c5288b",
   "metadata": {},
   "outputs": [
    {
     "name": "stdout",
     "output_type": "stream",
     "text": [
      "Part 2: 1123524\n"
     ]
    }
   ],
   "source": [
    "import networkx as nx\n",
    "\n",
    "g = nx.Graph()\n",
    "\n",
    "for x in range(len(arr)):\n",
    "    for y in range(len(arr[0])):\n",
    "        if grid[x, y] == 9:\n",
    "            continue\n",
    "\n",
    "        for dx in [-1, 1]:\n",
    "            dy = 0\n",
    "            if grid.get((x + dx, y + dy), 9) != 9:\n",
    "                g.add_edge((x, y), (x + dx, y + dy))\n",
    "\n",
    "        for dy in [-1, 1]:\n",
    "            dx = 0\n",
    "            if grid.get((x + dx, y + dy), 9) != 9:\n",
    "                g.add_edge((x, y), (x + dx, y + dy))\n",
    "\n",
    "sizes = []\n",
    "for basin in nx.connected_components(g):\n",
    "    sizes.append(len(set(basin)))\n",
    "\n",
    "x = sorted(sizes)\n",
    "\n",
    "print(\"Part 2:\", x[-3] * x[-2] * x[-1])"
   ]
  },
  {
   "cell_type": "code",
   "execution_count": null,
   "id": "94733c18",
   "metadata": {},
   "outputs": [],
   "source": []
  }
 ],
 "metadata": {
  "kernelspec": {
   "display_name": "Python 3 (ipykernel)",
   "language": "python",
   "name": "python3"
  },
  "language_info": {
   "codemirror_mode": {
    "name": "ipython",
    "version": 3
   },
   "file_extension": ".py",
   "mimetype": "text/x-python",
   "name": "python",
   "nbconvert_exporter": "python",
   "pygments_lexer": "ipython3",
   "version": "3.7.9"
  }
 },
 "nbformat": 4,
 "nbformat_minor": 5
}
