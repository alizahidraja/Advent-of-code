{
 "cells": [
  {
   "cell_type": "code",
   "execution_count": 135,
   "id": "5be6404c",
   "metadata": {},
   "outputs": [],
   "source": [
    "# for string\n",
    "arr = []\n",
    "f = open(\"input.txt\", \"r\")\n",
    "for l in f.readlines():\n",
    "    arr.append(l.strip())\n",
    "    # print(l.strip())\n"
   ]
  },
  {
   "cell_type": "code",
   "execution_count": 136,
   "id": "1c8caa97",
   "metadata": {},
   "outputs": [],
   "source": [
    "# For integer\n",
    "# arr = []\n",
    "# for line in open(\"input.txt\", \"r\"):\n",
    "#\n",
    "#    arr.append([int(x) for x in line.strip()])"
   ]
  },
  {
   "cell_type": "code",
   "execution_count": 143,
   "id": "6b531740",
   "metadata": {},
   "outputs": [
    {
     "name": "stdout",
     "output_type": "stream",
     "text": [
      "Part 1 842\n"
     ]
    }
   ],
   "source": [
    "dots_ = []\n",
    "folds = []\n",
    "d = True\n",
    "for i in arr:\n",
    "    if i == \"\":\n",
    "        d = False\n",
    "        continue\n",
    "    if d:\n",
    "        dots_.append(i)\n",
    "    else:\n",
    "        folds.append(i)\n",
    "\n",
    "dots = set()\n",
    "for line in dots_:\n",
    "    x, y = line.split(\",\")\n",
    "    dots.add((int(x), int(y)))\n",
    "\n",
    "import copy\n",
    "\n",
    "for inst in folds:\n",
    "    crease, size = inst.split()[-1].split(\"=\")\n",
    "    size = int(size)\n",
    "    if crease == \"x\":\n",
    "        continue\n",
    "    else:\n",
    "        res = set()\n",
    "        for pos in dots:\n",
    "            if pos[1] < size:\n",
    "                res.add(pos)\n",
    "            else:\n",
    "                res.add((pos[0], 2 * size - pos[1]))\n",
    "        dots = copy.deepcopy(res)\n",
    "        break\n",
    "print(\"Part 1\", len(dots))\n"
   ]
  },
  {
   "cell_type": "code",
   "execution_count": 146,
   "id": "727cdccd",
   "metadata": {},
   "outputs": [
    {
     "name": "stdout",
     "output_type": "stream",
     "text": [
      "Part 2\n",
      "#  #   ## ###  #  # #### #  # ###   ## \n",
      "# #     # #  # # #  #    #  # #  # #  #\n",
      "##      # ###  ##   ###  #  # ###  #   \n",
      "# #     # #  # # #  #    #  # #  # # ##\n",
      "# #  #  # #  # # #  #    #  # #  # #  #\n",
      "#  #  ##  ###  #  # ####  ##  ###   ###\n",
      "\n"
     ]
    }
   ],
   "source": [
    "for inst in folds:\n",
    "    d, amt = inst.split()[-1].split(\"=\")\n",
    "    amt = int(amt)\n",
    "    if d == \"x\":\n",
    "        res = set()\n",
    "        for pos in dots:\n",
    "            if pos[0] < amt:\n",
    "                res.add(pos)\n",
    "            else:\n",
    "                res.add((2 * amt - pos[0], pos[1]))\n",
    "        dots = copy.deepcopy(res)\n",
    "\n",
    "    else:\n",
    "        res = set()\n",
    "        for pos in dots:\n",
    "            if pos[1] < amt:\n",
    "                res.add(pos)\n",
    "            else:\n",
    "                res.add((pos[0], 2 * amt - pos[1]))\n",
    "        dots = copy.deepcopy(res)\n",
    "\n",
    "print(\"Part 2\")\n",
    "\n",
    "x = [i[0] for i in dots]\n",
    "y = [i[1] for i in dots]\n",
    "for j in range(0, max(y) + 1):\n",
    "    for i in range(0, max(x) + 1):\n",
    "        if (i, j) in dots:\n",
    "            print(\"#\", end=\" \")\n",
    "        else:\n",
    "            print(\"  \", end=\"\")\n",
    "    print()\n",
    "\n",
    "print()\n"
   ]
  },
  {
   "cell_type": "code",
   "execution_count": null,
   "id": "f22a8d48",
   "metadata": {},
   "outputs": [],
   "source": []
  }
 ],
 "metadata": {
  "kernelspec": {
   "display_name": "Python 3 (ipykernel)",
   "language": "python",
   "name": "python3"
  },
  "language_info": {
   "codemirror_mode": {
    "name": "ipython",
    "version": 3
   },
   "file_extension": ".py",
   "mimetype": "text/x-python",
   "name": "python",
   "nbconvert_exporter": "python",
   "pygments_lexer": "ipython3",
   "version": "3.7.9"
  }
 },
 "nbformat": 4,
 "nbformat_minor": 5
}
