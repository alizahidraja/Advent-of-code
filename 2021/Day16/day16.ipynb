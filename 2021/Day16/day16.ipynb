{
 "cells": [
  {
   "cell_type": "code",
   "execution_count": 1,
   "id": "5be6404c",
   "metadata": {},
   "outputs": [],
   "source": [
    "# for string\n",
    "arr = []\n",
    "f = open(\"input.txt\", \"r\")\n",
    "for l in f.readlines():\n",
    "    arr.append(l.strip())\n",
    "    # print(l.strip())\n"
   ]
  },
  {
   "cell_type": "code",
   "execution_count": 2,
   "id": "9265a2cf",
   "metadata": {},
   "outputs": [],
   "source": [
    "# For integer\n",
    "# arr = []\n",
    "#for line in open(\"input.txt\", \"r\"):\n",
    "#   arr.append([int(x) for x in line.strip()])"
   ]
  },
  {
   "cell_type": "code",
   "execution_count": 3,
   "id": "8fc8d238",
   "metadata": {},
   "outputs": [],
   "source": [
    "hex_to_dec = {\"0\": \"0000\",\n",
    "\"1\": \"0001\",\n",
    "\"2\": \"0010\",\n",
    "\"3\": \"0011\",\n",
    "\"4\": \"0100\",\n",
    "\"5\": \"0101\",\n",
    "\"6\": \"0110\",\n",
    "\"7\": \"0111\",\n",
    "\"8\": \"1000\",\n",
    "\"9\": \"1001\",\n",
    "\"A\": \"1010\",\n",
    "\"B\": \"1011\",\n",
    "\"C\": \"1100\",\n",
    "\"D\": \"1101\",\n",
    "\"E\": \"1110\",\n",
    "\"F\": \"1111\"}\n"
   ]
  },
  {
   "cell_type": "code",
   "execution_count": 15,
   "id": "ec711c19",
   "metadata": {},
   "outputs": [],
   "source": [
    "def binaryToDecimal(n):\n",
    "    return int(n,2)\n",
    "\n",
    "\n",
    "\n",
    "def parse(data, summ):\n",
    "    version = binaryToDecimal(data[:3])\n",
    "    summ[0] += version\n",
    "    data = data[3:]\n",
    "\n",
    "    tid = binaryToDecimal(data[:3])\n",
    "    data = data[3:]\n",
    "    if tid == 4:\n",
    "        t = \"\"\n",
    "        while True:\n",
    "            t += data[1:5]\n",
    "            cnt = data[0]\n",
    "            data = data[5:]\n",
    "            if cnt == \"0\":\n",
    "                break\n",
    "    else:\n",
    "        ltid = data[0]\n",
    "        data = data[1:]\n",
    "        if ltid == \"0\":\n",
    "            l = data[:15]\n",
    "            data = data[15:]\n",
    "            subpacketslen = binaryToDecimal(l)\n",
    "            subpackets = data[:subpacketslen]\n",
    "            while subpackets:\n",
    "                subpackets = parse(subpackets, summ)\n",
    "            data = data[subpacketslen:]\n",
    "        else:\n",
    "            l = data[:11]\n",
    "            data = data[11:]\n",
    "            subpacketsqty = binaryToDecimal(l)\n",
    "            for i in range(subpacketsqty):\n",
    "                data = parse(data, summ)\n",
    "    return data\n",
    "\n",
    "\n",
    "\n",
    "def parse(data, summ):\n",
    "    version = binaryToDecimal(data[:3])\n",
    "    summ[0] += version\n",
    "    data = data[3:]\n",
    "\n",
    "    tid = binaryToDecimal(data[:3])\n",
    "    data = data[3:]\n",
    "    if tid == 4:\n",
    "        t = \"\"\n",
    "        while True:\n",
    "            t += data[1:5]\n",
    "            cnt = data[0]\n",
    "            data = data[5:]\n",
    "            if cnt == \"0\":\n",
    "                break\n",
    "        return (data, binaryToDecimal(t))\n",
    "    else:\n",
    "        ltid = data[0]\n",
    "        data = data[1:]\n",
    "        spv = []\n",
    "        if ltid == \"0\":\n",
    "            l = data[:15]\n",
    "            data = data[15:]\n",
    "            subpacketslen = int(l, 2)\n",
    "            subpackets = data[:subpacketslen]\n",
    "            while subpackets:\n",
    "                s, x = parse(subpackets)\n",
    "                subpackets = s\n",
    "                spv.append(x)\n",
    "            data = data[subpacketslen:]\n",
    "        else:\n",
    "            l = data[:11]\n",
    "            data = data[11:]\n",
    "            subpacketsqty = int(l, 2)\n",
    "            for i in range(subpacketsqty):\n",
    "                s, x = parse(data)\n",
    "                data = s\n",
    "                spv.append(x)\n",
    "        if tid == 0:\n",
    "            return (data, sum(spv))\n",
    "        if tid == 1:\n",
    "            p = 1\n",
    "            for x in spv:\n",
    "                p *= x\n",
    "            return (data, p)\n",
    "        if tid == 2:\n",
    "            return (data, min(spv))\n",
    "        if tid == 3:\n",
    "            return (data, max(spv))\n",
    "        if tid == 5:\n",
    "            return (data, 1 if spv[0] > spv[1] else 0)\n",
    "        if tid == 6:\n",
    "            return (data, 1 if spv[0] < spv[1] else 0)\n",
    "        if tid == 7:\n",
    "            return (data, 1 if spv[0] == spv[1] else 0)\n",
    "\n",
    "\n"
   ]
  },
  {
   "cell_type": "code",
   "execution_count": 16,
   "id": "755d011c",
   "metadata": {},
   "outputs": [
    {
     "name": "stdout",
     "output_type": "stream",
     "text": [
      "Part 1 908\n",
      "Part 2 0\n"
     ]
    }
   ],
   "source": [
    "dec = \"\"\n",
    "for i in arr[0]:\n",
    "    dec += hex_to_dec[i]\n",
    "\n",
    "summ = [0]\n",
    "eval = parse(dec, summ)[1]\n",
    "print('Part 1', summ[0])\n",
    "print('Part 2', eval)"
   ]
  },
  {
   "cell_type": "code",
   "execution_count": 6,
   "id": "d9a5e158",
   "metadata": {},
   "outputs": [
    {
     "name": "stdout",
     "output_type": "stream",
     "text": [
      "0\n"
     ]
    }
   ],
   "source": [
    "print(parse(dec, [0])[1])"
   ]
  },
  {
   "cell_type": "code",
   "execution_count": null,
   "id": "8c517739",
   "metadata": {},
   "outputs": [],
   "source": []
  },
  {
   "cell_type": "code",
   "execution_count": null,
   "id": "87bb60c4",
   "metadata": {},
   "outputs": [],
   "source": []
  },
  {
   "cell_type": "code",
   "execution_count": 7,
   "id": "8b3dd251",
   "metadata": {},
   "outputs": [
    {
     "data": {
      "text/plain": [
       "'000'"
      ]
     },
     "execution_count": 7,
     "metadata": {},
     "output_type": "execute_result"
    }
   ],
   "source": [
    "#T\n",
    "dec[3:6]"
   ]
  },
  {
   "cell_type": "code",
   "execution_count": 8,
   "id": "8e5d406b",
   "metadata": {},
   "outputs": [
    {
     "data": {
      "text/plain": [
       "'0'"
      ]
     },
     "execution_count": 8,
     "metadata": {},
     "output_type": "execute_result"
    }
   ],
   "source": [
    "#I\n",
    "dec[6]"
   ]
  },
  {
   "cell_type": "code",
   "execution_count": 9,
   "id": "3629b0da",
   "metadata": {},
   "outputs": [],
   "source": [
    "def binaryToDecimal(n):\n",
    "    return int(n,2)"
   ]
  },
  {
   "cell_type": "code",
   "execution_count": 10,
   "id": "43ba2993",
   "metadata": {},
   "outputs": [
    {
     "data": {
      "text/plain": [
       "5340"
      ]
     },
     "execution_count": 10,
     "metadata": {},
     "output_type": "execute_result"
    }
   ],
   "source": [
    "V = dec[:3]\n",
    "T = dec[3:6]\n",
    "I = dec[6]\n",
    "if I == '1':\n",
    "    L = dec[6:6+12]\n",
    "elif I == '0':\n",
    "    L = dec[6:6+16]\n",
    "else:\n",
    "    print(\"NOPE\")\n",
    "\n",
    "binaryToDecimal(L)"
   ]
  },
  {
   "cell_type": "code",
   "execution_count": 11,
   "id": "380d0991",
   "metadata": {},
   "outputs": [],
   "source": [
    "fpath = \"input.txt\""
   ]
  },
  {
   "cell_type": "code",
   "execution_count": 12,
   "id": "1d547eb2",
   "metadata": {},
   "outputs": [
    {
     "name": "stdout",
     "output_type": "stream",
     "text": [
      "908\n",
      "10626195124371\n"
     ]
    }
   ],
   "source": [
    "import sys\n",
    "\n",
    "inf = \"input.txt\"\n",
    "ll = [x for x in open(inf).read().strip().split(\"\\n\")]\n",
    "parse = {\n",
    "    \"0\": \"0000\",\n",
    "    \"1\": \"0001\",\n",
    "    \"2\": \"0010\",\n",
    "    \"3\": \"0011\",\n",
    "    \"4\": \"0100\",\n",
    "    \"5\": \"0101\",\n",
    "    \"6\": \"0110\",\n",
    "    \"7\": \"0111\",\n",
    "    \"8\": \"1000\",\n",
    "    \"9\": \"1001\",\n",
    "    \"A\": \"1010\",\n",
    "    \"B\": \"1011\",\n",
    "    \"C\": \"1100\",\n",
    "    \"D\": \"1101\",\n",
    "    \"E\": \"1110\",\n",
    "    \"F\": \"1111\",\n",
    "}\n",
    "\n",
    "data = ll[0]\n",
    "data = \"\".join([parse[x] for x in data])\n",
    "\n",
    "sumofversions = 0\n",
    "\n",
    "\n",
    "def parse(data):\n",
    "    global sumofversions\n",
    "    version = int(data[:3], 2)\n",
    "    sumofversions += version\n",
    "    data = data[3:]\n",
    "\n",
    "    tid = int(data[:3], 2)\n",
    "    data = data[3:]\n",
    "    if tid == 4:\n",
    "        t = \"\"\n",
    "        while True:\n",
    "            t += data[1:5]\n",
    "            cnt = data[0]\n",
    "            data = data[5:]\n",
    "            if cnt == \"0\":\n",
    "                break\n",
    "    else:\n",
    "        ltid = data[0]\n",
    "        data = data[1:]\n",
    "        if ltid == \"0\":\n",
    "            l = data[:15]\n",
    "            data = data[15:]\n",
    "            subpacketslen = int(l, 2)\n",
    "            subpackets = data[:subpacketslen]\n",
    "            while subpackets:\n",
    "                subpackets = parse(subpackets)\n",
    "            data = data[subpacketslen:]\n",
    "        else:\n",
    "            l = data[:11]\n",
    "            data = data[11:]\n",
    "            subpacketsqty = int(l, 2)\n",
    "            for i in range(subpacketsqty):\n",
    "                data = parse(data)\n",
    "    return data\n",
    "\n",
    "\n",
    "parse(data)\n",
    "print(sumofversions)\n",
    "\n",
    "\n",
    "import sys\n",
    "\n",
    "\n",
    "ll = [x for x in open(inf).read().strip().split(\"\\n\")]\n",
    "parse = {\n",
    "    \"0\": \"0000\",\n",
    "    \"1\": \"0001\",\n",
    "    \"2\": \"0010\",\n",
    "    \"3\": \"0011\",\n",
    "    \"4\": \"0100\",\n",
    "    \"5\": \"0101\",\n",
    "    \"6\": \"0110\",\n",
    "    \"7\": \"0111\",\n",
    "    \"8\": \"1000\",\n",
    "    \"9\": \"1001\",\n",
    "    \"A\": \"1010\",\n",
    "    \"B\": \"1011\",\n",
    "    \"C\": \"1100\",\n",
    "    \"D\": \"1101\",\n",
    "    \"E\": \"1110\",\n",
    "    \"F\": \"1111\",\n",
    "}\n",
    "\n",
    "data = ll[0]\n",
    "data = \"\".join([parse[x] for x in data])\n",
    "\n",
    "sumofversions = 0\n",
    "\n",
    "\n",
    "def parse(data):\n",
    "    global sumofversions\n",
    "    version = int(data[:3], 2)\n",
    "    sumofversions += version\n",
    "    data = data[3:]\n",
    "\n",
    "    tid = int(data[:3], 2)\n",
    "    data = data[3:]\n",
    "    if tid == 4:\n",
    "        t = \"\"\n",
    "        while True:\n",
    "            t += data[1:5]\n",
    "            cnt = data[0]\n",
    "            data = data[5:]\n",
    "            if cnt == \"0\":\n",
    "                break\n",
    "        return (data, int(t, 2))\n",
    "    else:\n",
    "        ltid = data[0]\n",
    "        data = data[1:]\n",
    "        spv = []\n",
    "        if ltid == \"0\":\n",
    "            l = data[:15]\n",
    "            data = data[15:]\n",
    "            subpacketslen = int(l, 2)\n",
    "            subpackets = data[:subpacketslen]\n",
    "            while subpackets:\n",
    "                s, x = parse(subpackets)\n",
    "                subpackets = s\n",
    "                spv.append(x)\n",
    "            data = data[subpacketslen:]\n",
    "        else:\n",
    "            l = data[:11]\n",
    "            data = data[11:]\n",
    "            subpacketsqty = int(l, 2)\n",
    "            for i in range(subpacketsqty):\n",
    "                s, x = parse(data)\n",
    "                data = s\n",
    "                spv.append(x)\n",
    "        if tid == 0:\n",
    "            return (data, sum(spv))\n",
    "        if tid == 1:\n",
    "            p = 1\n",
    "            for x in spv:\n",
    "                p *= x\n",
    "            return (data, p)\n",
    "        if tid == 2:\n",
    "            return (data, min(spv))\n",
    "        if tid == 3:\n",
    "            return (data, max(spv))\n",
    "        if tid == 5:\n",
    "            return (data, 1 if spv[0] > spv[1] else 0)\n",
    "        if tid == 6:\n",
    "            return (data, 1 if spv[0] < spv[1] else 0)\n",
    "        if tid == 7:\n",
    "            return (data, 1 if spv[0] == spv[1] else 0)\n",
    "\n",
    "\n",
    "print(parse(data)[1])\n"
   ]
  },
  {
   "cell_type": "code",
   "execution_count": 13,
   "id": "c59b28c5",
   "metadata": {},
   "outputs": [
    {
     "name": "stdout",
     "output_type": "stream",
     "text": [
      "908\n",
      "10626195124371\n"
     ]
    }
   ],
   "source": [
    "ll = open(inf).read().strip()\n",
    "\n",
    "d = bin(int(ll, 16))[2:]\n",
    "while len(d) < 4 * len(ll):\n",
    "\td = '0' + d\n",
    "\n",
    "def peek(data, n):\n",
    "\tret = data[0][:n]\n",
    "\tdata[0] = data[0][n:]\n",
    "\treturn ret\n",
    "\n",
    "sumofversions = 0\n",
    "def parse(data):\n",
    "\tglobal sumofversions\n",
    "\t\n",
    "\tversion = int(peek(data, 3), 2)\n",
    "\tsumofversions += version\n",
    "\n",
    "\ttid = int(peek(data, 3), 2)\n",
    "\tif tid == 4:\n",
    "\t\tt = []\n",
    "\t\twhile True:\n",
    "\t\t\tcnt, *v = peek(data, 5)\n",
    "\t\t\tt += v\n",
    "\t\t\tif cnt == '0':\n",
    "\t\t\t\tbreak\n",
    "\t\treturn int(\"\".join(t), 2)\n",
    "\n",
    "\tltid = peek(data, 1)[0]\n",
    "\tspv = []\n",
    "\tif ltid == '0':\n",
    "\t\tsubpacketslen = int(peek(data, 15), 2)\n",
    "\t\tsubpackets = [peek(data, subpacketslen)]\n",
    "\t\twhile subpackets[0]:\n",
    "\t\t\tspv.append(parse(subpackets))\n",
    "\telse:\n",
    "\t\tspv = [parse(data) for i in range(int(peek(data, 11), 2))]\n",
    "\tif tid == 0:\n",
    "\t\treturn sum(spv)\n",
    "\telif tid == 1:\n",
    "\t\tp = 1\n",
    "\t\tfor x in spv:\n",
    "\t\t\tp *= x\n",
    "\t\treturn p\n",
    "\telif tid == 2:\n",
    "\t\treturn min(spv)\n",
    "\telif tid == 3:\n",
    "\t\treturn max(spv)\n",
    "\telif tid == 5:\n",
    "\t\treturn int(spv[0] > spv[1])\n",
    "\telif tid == 6:\n",
    "\t\treturn int(spv[0] < spv[1])\n",
    "\telif tid == 7:\n",
    "\t\treturn int(spv[0] == spv[1])\n",
    "\n",
    "p2 = parse([d])\n",
    "print(sumofversions)\n",
    "print(p2)"
   ]
  },
  {
   "cell_type": "code",
   "execution_count": null,
   "id": "b59c35b5",
   "metadata": {},
   "outputs": [],
   "source": []
  },
  {
   "cell_type": "code",
   "execution_count": null,
   "id": "bfe863a8",
   "metadata": {},
   "outputs": [],
   "source": []
  },
  {
   "cell_type": "code",
   "execution_count": null,
   "id": "afc4610a",
   "metadata": {},
   "outputs": [],
   "source": []
  },
  {
   "cell_type": "code",
   "execution_count": null,
   "id": "58875a75",
   "metadata": {},
   "outputs": [],
   "source": []
  },
  {
   "cell_type": "code",
   "execution_count": null,
   "id": "62add9fa",
   "metadata": {},
   "outputs": [],
   "source": []
  }
 ],
 "metadata": {
  "kernelspec": {
   "display_name": "Python 3 (ipykernel)",
   "language": "python",
   "name": "python3"
  },
  "language_info": {
   "codemirror_mode": {
    "name": "ipython",
    "version": 3
   },
   "file_extension": ".py",
   "mimetype": "text/x-python",
   "name": "python",
   "nbconvert_exporter": "python",
   "pygments_lexer": "ipython3",
   "version": "3.7.9"
  }
 },
 "nbformat": 4,
 "nbformat_minor": 5
}
