{
 "cells": [
  {
   "cell_type": "code",
   "execution_count": 1,
   "id": "5be6404c",
   "metadata": {},
   "outputs": [],
   "source": [
    "# for string\n",
    "arr = []\n",
    "f = open(\"input.txt\", \"r\")\n",
    "for l in f.readlines():\n",
    "    arr.append(l.strip())\n",
    "    # print(l.strip())\n"
   ]
  },
  {
   "cell_type": "code",
   "execution_count": 2,
   "id": "9265a2cf",
   "metadata": {},
   "outputs": [],
   "source": [
    "# For integer\n",
    "# arr = []\n",
    "#for line in open(\"input.txt\", \"r\"):\n",
    "#   arr.append([int(x) for x in line.strip()])"
   ]
  },
  {
   "cell_type": "code",
   "execution_count": 3,
   "id": "8fc8d238",
   "metadata": {},
   "outputs": [],
   "source": [
    "hex_to_dec = {\"0\": \"0000\",\n",
    "\"1\": \"0001\",\n",
    "\"2\": \"0010\",\n",
    "\"3\": \"0011\",\n",
    "\"4\": \"0100\",\n",
    "\"5\": \"0101\",\n",
    "\"6\": \"0110\",\n",
    "\"7\": \"0111\",\n",
    "\"8\": \"1000\",\n",
    "\"9\": \"1001\",\n",
    "\"A\": \"1010\",\n",
    "\"B\": \"1011\",\n",
    "\"C\": \"1100\",\n",
    "\"D\": \"1101\",\n",
    "\"E\": \"1110\",\n",
    "\"F\": \"1111\"}\n"
   ]
  },
  {
   "cell_type": "code",
   "execution_count": 4,
   "id": "ec711c19",
   "metadata": {},
   "outputs": [],
   "source": [
    "def binaryToDecimal(n):\n",
    "    return int(n,2)\n",
    "\n",
    "def parse(data, summ):\n",
    "    V = binaryToDecimal(data[:3])\n",
    "    T = binaryToDecimal(data[3:6])\n",
    "    summ[0] += V\n",
    "    data = data[6:]\n",
    "    if T == 4:\n",
    "        bin = \"\"\n",
    "        while True:\n",
    "            bin += data[1:5]\n",
    "            cnt = data[0]\n",
    "            data = data[5:]\n",
    "            if cnt == \"0\":\n",
    "                break\n",
    "        return (data, binaryToDecimal(bin))\n",
    "    else:\n",
    "        I = data[0]\n",
    "        data = data[1:]\n",
    "        spv = []\n",
    "        if I == \"0\":\n",
    "            L = data[:15]\n",
    "            data = data[15:]\n",
    "            subpacketslen = binaryToDecimal(L)\n",
    "            subpackets = data[:subpacketslen]\n",
    "            while subpackets:\n",
    "                s, x = parse(subpackets, summ)\n",
    "                subpackets = s\n",
    "                spv.append(x)\n",
    "            data = data[subpacketslen:]\n",
    "        else:\n",
    "            L = data[:11]\n",
    "            data = data[11:]\n",
    "            bin = binaryToDecimal(L)\n",
    "            for i in range(bin):\n",
    "                s, x = parse(data, summ)\n",
    "                data = s\n",
    "                spv.append(x)\n",
    "        if T == 0:\n",
    "            return (data, sum(spv))\n",
    "        elif T == 1:\n",
    "            p = 1\n",
    "            for x in spv:\n",
    "                p *= x\n",
    "            return (data, p)\n",
    "        elif T == 2:\n",
    "            return (data, min(spv))\n",
    "        elif T == 3:\n",
    "            return (data, max(spv))\n",
    "        elif T == 5:\n",
    "            if spv[0] > spv[1]:\n",
    "                return (data, 1)\n",
    "            else:\n",
    "                return (data, 0)\n",
    "        elif T == 6:\n",
    "            if spv[0] < spv[1]:\n",
    "                return (data, 1)\n",
    "            else:\n",
    "                return (data, 0)\n",
    "        elif T == 7:\n",
    "            if spv[0] == spv[1]:\n",
    "                return (data, 1)\n",
    "            else:\n",
    "                return (data, 0)\n",
    "\n",
    "\n"
   ]
  },
  {
   "cell_type": "code",
   "execution_count": 5,
   "id": "755d011c",
   "metadata": {},
   "outputs": [
    {
     "name": "stdout",
     "output_type": "stream",
     "text": [
      "Part 1 908\n",
      "Part 2 10626195124371\n"
     ]
    }
   ],
   "source": [
    "dec = \"\"\n",
    "for i in arr[0]:\n",
    "    dec += hex_to_dec[i]\n",
    "\n",
    "summ = [0]\n",
    "eval = parse(dec, summ)[1]\n",
    "print('Part 1', summ[0])\n",
    "print('Part 2', eval)"
   ]
  },
  {
   "cell_type": "code",
   "execution_count": null,
   "id": "62add9fa",
   "metadata": {},
   "outputs": [],
   "source": []
  }
 ],
 "metadata": {
  "kernelspec": {
   "display_name": "Python 3 (ipykernel)",
   "language": "python",
   "name": "python3"
  },
  "language_info": {
   "codemirror_mode": {
    "name": "ipython",
    "version": 3
   },
   "file_extension": ".py",
   "mimetype": "text/x-python",
   "name": "python",
   "nbconvert_exporter": "python",
   "pygments_lexer": "ipython3",
   "version": "3.7.9"
  }
 },
 "nbformat": 4,
 "nbformat_minor": 5
}
