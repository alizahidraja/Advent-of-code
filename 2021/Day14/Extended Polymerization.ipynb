{
 "cells": [
  {
   "cell_type": "code",
   "execution_count": 17,
   "id": "5be6404c",
   "metadata": {},
   "outputs": [],
   "source": [
    "# for string\n",
    "arr = []\n",
    "f = open(\"input.txt\", \"r\")\n",
    "for l in f.readlines():\n",
    "    arr.append(l.strip())\n",
    "    # print(l.strip())\n"
   ]
  },
  {
   "cell_type": "code",
   "execution_count": 18,
   "id": "1c8caa97",
   "metadata": {},
   "outputs": [],
   "source": [
    "# For integer\n",
    "# arr = []\n",
    "# for line in open(\"input.txt\", \"r\"):\n",
    "#\n",
    "#    arr.append([int(x) for x in line.strip()])"
   ]
  },
  {
   "cell_type": "code",
   "execution_count": 19,
   "id": "3a0bc77a",
   "metadata": {},
   "outputs": [],
   "source": [
    "pattern = arr[0]\n",
    "rest = []\n",
    "for i in range(2, len(arr)):\n",
    "    rest.append(arr[i])\n"
   ]
  },
  {
   "cell_type": "code",
   "execution_count": 20,
   "id": "e8dbd649",
   "metadata": {},
   "outputs": [],
   "source": [
    "pattern_dic = {}\n",
    "for i in rest:\n",
    "    left, right = i.split(' -> ')\n",
    "    pattern_dic[left] = right"
   ]
  },
  {
   "cell_type": "code",
   "execution_count": 21,
   "id": "fe69a107",
   "metadata": {},
   "outputs": [
    {
     "name": "stdout",
     "output_type": "stream",
     "text": [
      "Part 1 2509\n",
      "Part 2 2827627697643\n"
     ]
    }
   ],
   "source": [
    "from collections import Counter\n",
    "\n",
    "result = Counter(pattern[i:i + 2] for i in range(len(pattern) - 1))\n",
    "\n",
    "alpha_counter = Counter(pattern)\n",
    "\n",
    "for step in range(1, 41):\n",
    "    c = result.most_common()\n",
    "    new_result = Counter()\n",
    "    for each in c:\n",
    "        char = pattern_dic[each[0]]\n",
    "        alpha_counter.update({char: each[1]})\n",
    "        new_result.update({each[0][0] + char: each[1]})\n",
    "        new_result.update({str(char) + each[0][1]: each[1]})\n",
    "\n",
    "    result = new_result\n",
    "    if step == 10:\n",
    "        totals = alpha_counter.most_common()\n",
    "        print(\"Part 1\", totals[0][1] - totals[-1][1])\n",
    "    if  step == 40:\n",
    "        totals = alpha_counter.most_common()\n",
    "        print(\"Part 2\", totals[0][1] - totals[-1][1])\n",
    "\n",
    "\n"
   ]
  },
  {
   "cell_type": "code",
   "execution_count": null,
   "id": "7f297afa",
   "metadata": {},
   "outputs": [],
   "source": []
  }
 ],
 "metadata": {
  "kernelspec": {
   "display_name": "Python 3 (ipykernel)",
   "language": "python",
   "name": "python3"
  },
  "language_info": {
   "codemirror_mode": {
    "name": "ipython",
    "version": 3
   },
   "file_extension": ".py",
   "mimetype": "text/x-python",
   "name": "python",
   "nbconvert_exporter": "python",
   "pygments_lexer": "ipython3",
   "version": "3.7.9"
  }
 },
 "nbformat": 4,
 "nbformat_minor": 5
}
