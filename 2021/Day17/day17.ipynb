{
 "cells": [
  {
   "cell_type": "code",
   "execution_count": 1,
   "id": "5be6404c",
   "metadata": {},
   "outputs": [],
   "source": [
    "# for string\n",
    "arr = []\n",
    "f = open(\"input.txt\", \"r\")\n",
    "for l in f.readlines():\n",
    "    arr.append(l.strip())\n",
    "    # print(l.strip())\n"
   ]
  },
  {
   "cell_type": "code",
   "execution_count": 2,
   "id": "9265a2cf",
   "metadata": {},
   "outputs": [],
   "source": [
    "# For integer\n",
    "# arr = []\n",
    "#for line in open(\"input.txt\", \"r\"):\n",
    "#   arr.append([int(x) for x in line.strip()])"
   ]
  },
  {
   "cell_type": "code",
   "execution_count": 3,
   "id": "794fc288",
   "metadata": {},
   "outputs": [
    {
     "data": {
      "text/plain": [
       "['target area: x=185..221, y=-122..-74']"
      ]
     },
     "execution_count": 3,
     "metadata": {},
     "output_type": "execute_result"
    }
   ],
   "source": [
    "arr"
   ]
  },
  {
   "cell_type": "code",
   "execution_count": 4,
   "id": "5b749a1b",
   "metadata": {},
   "outputs": [],
   "source": [
    "coor = arr[0].split(': ')[-1]"
   ]
  },
  {
   "cell_type": "code",
   "execution_count": 5,
   "metadata": {},
   "outputs": [],
   "source": [
    "x, y = coor.split(', ')"
   ]
  },
  {
   "cell_type": "code",
   "execution_count": 6,
   "id": "011da53d",
   "metadata": {},
   "outputs": [
    {
     "data": {
      "text/plain": [
       "[185, 221]"
      ]
     },
     "execution_count": 6,
     "metadata": {},
     "output_type": "execute_result"
    }
   ],
   "source": [
    "x = x.split(\"=\")[-1].split(\"..\")\n",
    "target_x = [int(i) for i in x]\n",
    "target_x.sort()\n",
    "target_x"
   ]
  },
  {
   "cell_type": "code",
   "execution_count": 7,
   "id": "63643e49",
   "metadata": {},
   "outputs": [
    {
     "data": {
      "text/plain": [
       "[-122, -74]"
      ]
     },
     "execution_count": 7,
     "metadata": {},
     "output_type": "execute_result"
    }
   ],
   "source": [
    "y = y.split(\"=\")[-1].split(\"..\")\n",
    "target_y = [int(i) for i in y]\n",
    "target_y.sort()\n",
    "target_y"
   ]
  },
  {
   "cell_type": "code",
   "execution_count": 8,
   "id": "c90c83bd",
   "metadata": {},
   "outputs": [
    {
     "name": "stdout",
     "output_type": "stream",
     "text": [
      "Part 1: 7381\n",
      "Part 2: 3019\n"
     ]
    }
   ],
   "source": [
    "besty = 0\n",
    "total = 0\n",
    "\n",
    "for vel_x_start in range(target_x[1] + 1):\n",
    "    for vel_y_start in range(target_y[0], abs(target_y[0]) + 1):\n",
    "        x, y = 0, 0\n",
    "        vel_x, vel_y = vel_x_start, vel_y_start\n",
    "        topy = 0\n",
    "        while x <= target_x[1] and y >= target_y[0]:\n",
    "            x += vel_x\n",
    "            y += vel_y\n",
    "            vel_x -= (vel_x > 0) - (vel_x < 0)\n",
    "            vel_y -= 1\n",
    "            topy = max(topy, y)\n",
    "            if target_x[0] <= x <= target_x[1] and target_y[0] <= y <= target_y[1]:\n",
    "                besty = max(besty, topy)\n",
    "                total += 1\n",
    "                break\n",
    "\n",
    "print(\"Part 1:\", besty)\n",
    "print(\"Part 2:\", total)\n"
   ]
  },
  {
   "cell_type": "code",
   "execution_count": null,
   "id": "eb957b0d",
   "metadata": {},
   "outputs": [],
   "source": []
  }
 ],
 "metadata": {
  "kernelspec": {
   "display_name": "Python 3 (ipykernel)",
   "language": "python",
   "name": "python3"
  },
  "language_info": {
   "codemirror_mode": {
    "name": "ipython",
    "version": 3
   },
   "file_extension": ".py",
   "mimetype": "text/x-python",
   "name": "python",
   "nbconvert_exporter": "python",
   "pygments_lexer": "ipython3",
   "version": "3.7.9"
  }
 },
 "nbformat": 4,
 "nbformat_minor": 5
}
