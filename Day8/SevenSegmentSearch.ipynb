{
 "cells": [
  {
   "cell_type": "code",
   "execution_count": 1,
   "id": "5be6404c",
   "metadata": {},
   "outputs": [],
   "source": [
    "arr = []\n",
    "f = open(\"input.txt\", \"r\")\n",
    "for l in f.readlines():\n",
    "    arr.append(l.strip())\n",
    "    # print(l.strip())\n"
   ]
  },
  {
   "cell_type": "code",
   "execution_count": 2,
   "id": "26b61644",
   "metadata": {},
   "outputs": [],
   "source": [
    "import itertools"
   ]
  },
  {
   "cell_type": "code",
   "execution_count": 3,
   "id": "d073f130",
   "metadata": {},
   "outputs": [
    {
     "data": {
      "text/plain": [
       "473"
      ]
     },
     "execution_count": 3,
     "metadata": {},
     "output_type": "execute_result"
    }
   ],
   "source": [
    "c = 0\n",
    "for line in arr:\n",
    "    x = line.split(\" | \")\n",
    "    y = x[-1].split(\" \")\n",
    "    for x in y:\n",
    "        if len(x) in (2,3,4,7):\n",
    "            c += 1\n",
    "c"
   ]
  },
  {
   "cell_type": "code",
   "execution_count": 4,
   "id": "21720332",
   "metadata": {},
   "outputs": [
    {
     "data": {
      "text/plain": [
       "1097568"
      ]
     },
     "execution_count": 4,
     "metadata": {},
     "output_type": "execute_result"
    }
   ],
   "source": [
    "m = {\"abcdefg\":8, \"bcdef\":5, \"acdfg\":2, \"abcdf\":3, \"abd\":7,\n",
    "         \"abcdef\":9, \"bcdefg\":6, \"abef\":4, \"abcdeg\":0, \"ab\":1}\n",
    "\n",
    "ans = 0\n",
    "for line in arr:\n",
    "    x = line.split(\"|\")\n",
    "    a = x[0].split(\" \")\n",
    "    a.remove(\"\")\n",
    "    b = x[1].split(\" \")\n",
    "    b.remove(\"\")\n",
    "    \n",
    "    for perm in itertools.permutations(\"abcdefg\"):\n",
    "        mapp = {a:b for a,b in zip(perm,\"abcdefg\")}\n",
    "        a_new = [\"\".join(mapp[i] for i in j) for j in a]\n",
    "        b_new = [\"\".join(mapp[i] for i in j) for j in b]\n",
    "        if all(\"\".join(sorted(i)) in m for i in a_new):\n",
    "            b_new = [\"\".join(sorted(i)) for i in b_new]\n",
    "            ans += int(\"\".join(str(m[i]) for i in b_new))\n",
    "            break\n",
    "    \n",
    "ans\n"
   ]
  },
  {
   "cell_type": "code",
   "execution_count": null,
   "id": "6d6c1137",
   "metadata": {},
   "outputs": [],
   "source": []
  }
 ],
 "metadata": {
  "kernelspec": {
   "display_name": "Python 3 (ipykernel)",
   "language": "python",
   "name": "python3"
  },
  "language_info": {
   "codemirror_mode": {
    "name": "ipython",
    "version": 3
   },
   "file_extension": ".py",
   "mimetype": "text/x-python",
   "name": "python",
   "nbconvert_exporter": "python",
   "pygments_lexer": "ipython3",
   "version": "3.7.9"
  }
 },
 "nbformat": 4,
 "nbformat_minor": 5
}
